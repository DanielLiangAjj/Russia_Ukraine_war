{
 "cells": [
  {
   "cell_type": "code",
   "execution_count": 1,
   "id": "beaecce1",
   "metadata": {
    "_cell_guid": "b1076dfc-b9ad-4769-8c92-a6c4dae69d19",
    "_uuid": "8f2839f25d086af736a60e9eeb907d3b93b6e0e5",
    "execution": {
     "iopub.execute_input": "2023-07-22T04:04:33.078717Z",
     "iopub.status.busy": "2023-07-22T04:04:33.078199Z",
     "iopub.status.idle": "2023-07-22T04:04:52.075044Z",
     "shell.execute_reply": "2023-07-22T04:04:52.073621Z"
    },
    "papermill": {
     "duration": 19.00595,
     "end_time": "2023-07-22T04:04:52.078402",
     "exception": false,
     "start_time": "2023-07-22T04:04:33.072452",
     "status": "completed"
    },
    "tags": []
   },
   "outputs": [
    {
     "name": "stderr",
     "output_type": "stream",
     "text": [
      "/opt/conda/lib/python3.10/site-packages/scipy/__init__.py:146: UserWarning: A NumPy version >=1.16.5 and <1.23.0 is required for this version of SciPy (detected version 1.23.5\n",
      "  warnings.warn(f\"A NumPy version >={np_minversion} and <{np_maxversion}\"\n",
      "/opt/conda/lib/python3.10/site-packages/tensorflow_io/python/ops/__init__.py:98: UserWarning: unable to load libtensorflow_io_plugins.so: unable to open file: libtensorflow_io_plugins.so, from paths: ['/opt/conda/lib/python3.10/site-packages/tensorflow_io/python/ops/libtensorflow_io_plugins.so']\n",
      "caused by: ['/opt/conda/lib/python3.10/site-packages/tensorflow_io/python/ops/libtensorflow_io_plugins.so: undefined symbol: _ZN3tsl6StatusC1EN10tensorflow5error4CodeESt17basic_string_viewIcSt11char_traitsIcEENS_14SourceLocationE']\n",
      "  warnings.warn(f\"unable to load libtensorflow_io_plugins.so: {e}\")\n",
      "/opt/conda/lib/python3.10/site-packages/tensorflow_io/python/ops/__init__.py:104: UserWarning: file system plugins are not loaded: unable to open file: libtensorflow_io.so, from paths: ['/opt/conda/lib/python3.10/site-packages/tensorflow_io/python/ops/libtensorflow_io.so']\n",
      "caused by: ['/opt/conda/lib/python3.10/site-packages/tensorflow_io/python/ops/libtensorflow_io.so: undefined symbol: _ZTVN10tensorflow13GcsFileSystemE']\n",
      "  warnings.warn(f\"file system plugins are not loaded: {e}\")\n"
     ]
    }
   ],
   "source": [
    "# This Python 3 environment comes with many helpful analytics libraries installed\n",
    "# It is defined by the kaggle/python Docker image: https://github.com/kaggle/docker-python\n",
    "# For example, here's several helpful packages to load\n",
    "\n",
    "import numpy as np # linear algebra\n",
    "import pandas as pd # data processing, CSV file I/O (e.g. pd.read_csv)\n",
    "\n",
    "# Input data files are available in the read-only \"../input/\" directory\n",
    "# For example, running this (by clicking run or pressing Shift+Enter) will list all files under the input directory\n",
    "\n",
    "import os\n",
    "\n",
    "# You can write up to 20GB to the current directory (/kaggle/working/) that gets preserved as output when you create a version using \"Save & Run All\" \n",
    "# You can also write temporary files to /kaggle/temp/, but they won't be saved outside of the current session\n",
    "\n",
    "from transformers import BertModel, BertTokenizer\n",
    "import torch.nn as nn\n",
    "from torch.optim import Adam\n",
    "from torch.utils.data import DataLoader, TensorDataset\n",
    "import torch\n",
    "from torch.utils.data import random_split\n",
    "import tensorflow as tf\n",
    "from transformers import BertTokenizer, TFBertModel\n",
    "import tensorflow as tf\n",
    "import tensorflow_hub as hub\n",
    "import tensorflow_text as text  # Required for tf.hub.load to work.\n",
    "import pandas as pd\n"
   ]
  },
  {
   "cell_type": "code",
   "execution_count": 2,
   "id": "c4f33266",
   "metadata": {
    "execution": {
     "iopub.execute_input": "2023-07-22T04:04:52.088079Z",
     "iopub.status.busy": "2023-07-22T04:04:52.086897Z",
     "iopub.status.idle": "2023-07-22T04:05:12.900046Z",
     "shell.execute_reply": "2023-07-22T04:05:12.898510Z"
    },
    "papermill": {
     "duration": 20.82123,
     "end_time": "2023-07-22T04:05:12.903337",
     "exception": false,
     "start_time": "2023-07-22T04:04:52.082107",
     "status": "completed"
    },
    "tags": []
   },
   "outputs": [],
   "source": [
    "\n",
    "preprocessor = hub.KerasLayer(\"https://kaggle.com/models/tensorflow/bert/frameworks/TensorFlow2/variations/en-uncased-preprocess/versions/3\")\n",
    "\n",
    "# Load the BERT model from the Hub\n",
    "encoder = hub.KerasLayer(\"https://kaggle.com/models/tensorflow/bert/frameworks/TensorFlow2/variations/bert-en-uncased-l-12-h-768-a-12/versions/2\", trainable=True)"
   ]
  },
  {
   "cell_type": "code",
   "execution_count": 3,
   "id": "dbc682d2",
   "metadata": {
    "execution": {
     "iopub.execute_input": "2023-07-22T04:05:12.912323Z",
     "iopub.status.busy": "2023-07-22T04:05:12.911454Z",
     "iopub.status.idle": "2023-07-22T05:07:37.336277Z",
     "shell.execute_reply": "2023-07-22T05:07:37.335255Z"
    },
    "papermill": {
     "duration": 3744.432554,
     "end_time": "2023-07-22T05:07:37.339155",
     "exception": false,
     "start_time": "2023-07-22T04:05:12.906601",
     "status": "completed"
    },
    "tags": []
   },
   "outputs": [
    {
     "name": "stdout",
     "output_type": "stream",
     "text": [
      "Epoch 1/10\n",
      "15/15 [==============================] - 386s 23s/step - loss: 15.8354\n",
      "Epoch 2/10\n",
      "15/15 [==============================] - 339s 23s/step - loss: 10.5530\n",
      "Epoch 3/10\n",
      "15/15 [==============================] - 336s 22s/step - loss: 6.3171\n",
      "Epoch 4/10\n",
      "15/15 [==============================] - 335s 22s/step - loss: 3.4073\n",
      "Epoch 5/10\n",
      "15/15 [==============================] - 332s 22s/step - loss: 2.0877\n",
      "Epoch 6/10\n",
      "15/15 [==============================] - 329s 22s/step - loss: 1.3923\n",
      "Epoch 7/10\n",
      "15/15 [==============================] - 326s 22s/step - loss: 1.0908\n",
      "Epoch 8/10\n",
      "15/15 [==============================] - 327s 22s/step - loss: 0.8478\n",
      "Epoch 9/10\n",
      "15/15 [==============================] - 324s 22s/step - loss: 0.7342\n",
      "Epoch 10/10\n",
      "15/15 [==============================] - 327s 22s/step - loss: 0.5316\n"
     ]
    }
   ],
   "source": [
    "\n",
    "\n",
    "class NewsScorePredictor(tf.keras.Model):\n",
    "    def __init__(self, encoder):\n",
    "        super(NewsScorePredictor, self).__init__()\n",
    "        self.encoder = encoder\n",
    "        self.linear = tf.keras.layers.Dense(2)  # BERT-base has 768 hidden units\n",
    "\n",
    "    def call(self, inputs):\n",
    "        outputs = self.encoder(inputs)\n",
    "        pooled_output = outputs[\"pooled_output\"]\n",
    "        scores = self.linear(pooled_output)\n",
    "        return scores\n",
    "\n",
    "# Instantiate model\n",
    "model = NewsScorePredictor(encoder)\n",
    "\n",
    "raw_news_content = pd.read_csv('/kaggle/input/raw-content/raw_news_content.csv')\n",
    "\n",
    "labels = [(russia, ukraine) for russia, ukraine in zip(raw_news_content.Russia_score, raw_news_content.Ukraine_score)]\n",
    "\n",
    "labels = tf.constant(labels, dtype=tf.float32)\n",
    "\n",
    "# Use the preprocessor to preprocess the text inputs\n",
    "news_encoded = preprocessor(raw_news_content.raw_content.values.tolist())\n",
    "\n",
    "# Create TensorFlow datasets for better performance\n",
    "train_dataset = tf.data.Dataset.from_tensor_slices((news_encoded, labels))\n",
    "train_dataset = train_dataset.batch(32).shuffle(1024)\n",
    "\n",
    "# Optimizer and loss function\n",
    "optimizer = tf.keras.optimizers.Adam(learning_rate=5e-5)\n",
    "loss = tf.keras.losses.MeanSquaredError()\n",
    "model.compile(optimizer=optimizer, loss=loss)\n",
    "\n",
    "# Training\n",
    "history = model.fit(train_dataset, epochs=10)\n",
    "\n",
    "# Save the model for future use\n",
    "model_path = \"./my_trained_model\"\n",
    "model.save(model_path)\n"
   ]
  },
  {
   "cell_type": "code",
   "execution_count": 4,
   "id": "f4af53fa",
   "metadata": {
    "execution": {
     "iopub.execute_input": "2023-07-22T05:07:37.377706Z",
     "iopub.status.busy": "2023-07-22T05:07:37.377225Z",
     "iopub.status.idle": "2023-07-22T05:07:38.763522Z",
     "shell.execute_reply": "2023-07-22T05:07:38.762044Z"
    },
    "papermill": {
     "duration": 1.408064,
     "end_time": "2023-07-22T05:07:38.765920",
     "exception": false,
     "start_time": "2023-07-22T05:07:37.357856",
     "status": "completed"
    },
    "tags": []
   },
   "outputs": [
    {
     "name": "stdout",
     "output_type": "stream",
     "text": [
      "{'input_mask': <tf.Tensor: shape=(1, 128), dtype=int32, numpy=\n",
      "array([[1, 1, 1, 1, 1, 1, 1, 1, 1, 1, 1, 1, 1, 1, 1, 1, 1, 1, 1, 1, 1, 1,\n",
      "        1, 1, 1, 1, 1, 1, 1, 1, 1, 1, 1, 1, 1, 1, 1, 1, 1, 1, 1, 1, 1, 1,\n",
      "        1, 1, 1, 1, 1, 1, 1, 1, 1, 1, 1, 1, 1, 1, 1, 1, 1, 1, 1, 1, 1, 1,\n",
      "        1, 1, 1, 1, 1, 1, 1, 1, 1, 1, 1, 1, 1, 1, 1, 1, 1, 1, 1, 1, 1, 1,\n",
      "        1, 1, 1, 1, 1, 1, 1, 1, 1, 1, 1, 1, 1, 1, 1, 1, 1, 1, 1, 1, 1, 1,\n",
      "        1, 1, 1, 1, 1, 1, 1, 1, 1, 1, 1, 1, 1, 1, 1, 1, 1, 1]],\n",
      "      dtype=int32)>, 'input_word_ids': <tf.Tensor: shape=(1, 128), dtype=int32, numpy=\n",
      "array([[  101,  2000,  2070,  5969,  2749,  1010,  3548,  2013,  1996,\n",
      "        10304,  2177,  2020,  1996,  2190,  1011,  6055,  7299,  2027,\n",
      "         2018,  2464,  2144,  3607, 10836,  2197,  2095,  1012,  2000,\n",
      "         2500,  1010,  2009,  2001,  2037,  2731,  2008,  5182,  2068,\n",
      "         1024,  5969,  3548,  7383, 11686,  3441,  1997,  9376,  9887,\n",
      "         2030,  1037, 17515, 22501,  1037, 18465,  2007,  1037,  2309,\n",
      "         2915,  1012,  2021,  2044,  1996,  2460,  1011,  2973, 19306,\n",
      "         2419,  2011,  1996,  2132,  1997,  1996,  2177,  1010,  6300,\n",
      "         2615, 17487,  1058,  1012, 26927,  3995, 19436,  2078,  1010,\n",
      "         2009,  2003,  2025,  3154,  3251, 10304,  2097,  2145,  2022,\n",
      "         1037,  3554,  2486,  2006,  1996, 11686,  2007,  2049,  6580,\n",
      "         2085,  1999,  3160,  1012,  2005,  2085,  1010,  1996,  9662,\n",
      "         3570,  1997, 10304,  2003,  5391,  2000,  2022,  1037,  4335,\n",
      "         2005,  5969,  3548,  1012,  2295,  1996,  2392,  3210,  1999,\n",
      "         5924,   102]], dtype=int32)>, 'input_type_ids': <tf.Tensor: shape=(1, 128), dtype=int32, numpy=\n",
      "array([[0, 0, 0, 0, 0, 0, 0, 0, 0, 0, 0, 0, 0, 0, 0, 0, 0, 0, 0, 0, 0, 0,\n",
      "        0, 0, 0, 0, 0, 0, 0, 0, 0, 0, 0, 0, 0, 0, 0, 0, 0, 0, 0, 0, 0, 0,\n",
      "        0, 0, 0, 0, 0, 0, 0, 0, 0, 0, 0, 0, 0, 0, 0, 0, 0, 0, 0, 0, 0, 0,\n",
      "        0, 0, 0, 0, 0, 0, 0, 0, 0, 0, 0, 0, 0, 0, 0, 0, 0, 0, 0, 0, 0, 0,\n",
      "        0, 0, 0, 0, 0, 0, 0, 0, 0, 0, 0, 0, 0, 0, 0, 0, 0, 0, 0, 0, 0, 0,\n",
      "        0, 0, 0, 0, 0, 0, 0, 0, 0, 0, 0, 0, 0, 0, 0, 0, 0, 0]],\n",
      "      dtype=int32)>}\n",
      "tf.Tensor([[-5.0620246  5.590762 ]], shape=(1, 2), dtype=float32)\n"
     ]
    }
   ],
   "source": [
    "def predict_text(text):\n",
    "    preprocessed_text = preprocessor(tf.constant([text]))\n",
    "    print(preprocessed_text)\n",
    "    scores = model(preprocessed_text)\n",
    "    return scores\n",
    "\n",
    "# Example usage:\n",
    "text = \"\"\"To some Ukrainian forces, soldiers from the Wagner Group were the best-equipped fighters they had seen since Russia invaded last year. To others, it was their training that distinguished them: Ukrainian soldiers recalled battlefield stories of aggressive tactics or a sniper downing a drone with a single shot.\n",
    "But after the short-lived mutiny led by the head of the group, Yevgeny V. Prigozhin, it is not clear whether Wagner will still be a fighting force on the battlefield with its fate now in question.\n",
    "For now, the uncertain status of Wagner is bound to be a relief for Ukrainian soldiers. Though the front lines in Ukraine are likely to remain unchanged in the short term, depending on how events unfold in Russia, the Ukrainian military may be able to capitalize on the chaos and weakening morale to try to make some gains, according to independent analysts and American officials.\n",
    "Still, it is too soon to determine the long-term implications of the feud between Mr. Prigozhin and the Russian military establishment, American officials said. In Bakhmut, Wagner played an outsize role in the campaign to take the eastern city, Moscow’s one major battlefield victory this year, and solidified an uneasy alliance with the Russian military — only to see the partnership break once the city was captured.\n",
    "\"\"\"\n",
    "print(predict_text(text))"
   ]
  }
 ],
 "metadata": {
  "kernelspec": {
   "display_name": "Python 3",
   "language": "python",
   "name": "python3"
  },
  "language_info": {
   "codemirror_mode": {
    "name": "ipython",
    "version": 3
   },
   "file_extension": ".py",
   "mimetype": "text/x-python",
   "name": "python",
   "nbconvert_exporter": "python",
   "pygments_lexer": "ipython3",
   "version": "3.10.12"
  },
  "papermill": {
   "default_parameters": {},
   "duration": 3803.348694,
   "end_time": "2023-07-22T05:07:43.072172",
   "environment_variables": {},
   "exception": null,
   "input_path": "__notebook__.ipynb",
   "output_path": "__notebook__.ipynb",
   "parameters": {},
   "start_time": "2023-07-22T04:04:19.723478",
   "version": "2.4.0"
  }
 },
 "nbformat": 4,
 "nbformat_minor": 5
}
