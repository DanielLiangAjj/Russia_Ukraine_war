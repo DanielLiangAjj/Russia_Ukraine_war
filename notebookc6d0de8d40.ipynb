{
 "cells": [
  {
   "cell_type": "code",
   "execution_count": 1,
   "id": "154708db",
   "metadata": {
    "_cell_guid": "b1076dfc-b9ad-4769-8c92-a6c4dae69d19",
    "_uuid": "8f2839f25d086af736a60e9eeb907d3b93b6e0e5",
    "execution": {
     "iopub.execute_input": "2023-07-25T10:44:25.251000Z",
     "iopub.status.busy": "2023-07-25T10:44:25.249995Z",
     "iopub.status.idle": "2023-07-25T10:44:40.328157Z",
     "shell.execute_reply": "2023-07-25T10:44:40.327164Z"
    },
    "papermill": {
     "duration": 15.085513,
     "end_time": "2023-07-25T10:44:40.330827",
     "exception": false,
     "start_time": "2023-07-25T10:44:25.245314",
     "status": "completed"
    },
    "tags": []
   },
   "outputs": [
    {
     "name": "stderr",
     "output_type": "stream",
     "text": [
      "/opt/conda/lib/python3.10/site-packages/scipy/__init__.py:146: UserWarning: A NumPy version >=1.16.5 and <1.23.0 is required for this version of SciPy (detected version 1.23.5\n",
      "  warnings.warn(f\"A NumPy version >={np_minversion} and <{np_maxversion}\"\n",
      "/opt/conda/lib/python3.10/site-packages/tensorflow_io/python/ops/__init__.py:98: UserWarning: unable to load libtensorflow_io_plugins.so: unable to open file: libtensorflow_io_plugins.so, from paths: ['/opt/conda/lib/python3.10/site-packages/tensorflow_io/python/ops/libtensorflow_io_plugins.so']\n",
      "caused by: ['/opt/conda/lib/python3.10/site-packages/tensorflow_io/python/ops/libtensorflow_io_plugins.so: undefined symbol: _ZN3tsl6StatusC1EN10tensorflow5error4CodeESt17basic_string_viewIcSt11char_traitsIcEENS_14SourceLocationE']\n",
      "  warnings.warn(f\"unable to load libtensorflow_io_plugins.so: {e}\")\n",
      "/opt/conda/lib/python3.10/site-packages/tensorflow_io/python/ops/__init__.py:104: UserWarning: file system plugins are not loaded: unable to open file: libtensorflow_io.so, from paths: ['/opt/conda/lib/python3.10/site-packages/tensorflow_io/python/ops/libtensorflow_io.so']\n",
      "caused by: ['/opt/conda/lib/python3.10/site-packages/tensorflow_io/python/ops/libtensorflow_io.so: undefined symbol: _ZTVN10tensorflow13GcsFileSystemE']\n",
      "  warnings.warn(f\"file system plugins are not loaded: {e}\")\n"
     ]
    }
   ],
   "source": [
    "# This Python 3 environment comes with many helpful analytics libraries installed\n",
    "# It is defined by the kaggle/python Docker image: https://github.com/kaggle/docker-python\n",
    "# For example, here's several helpful packages to load\n",
    "\n",
    "import numpy as np # linear algebra\n",
    "import pandas as pd # data processing, CSV file I/O (e.g. pd.read_csv)\n",
    "\n",
    "# Input data files are available in the read-only \"../input/\" directory\n",
    "# For example, running this (by clicking run or pressing Shift+Enter) will list all files under the input directory\n",
    "\n",
    "import os\n",
    "\n",
    "# You can write up to 20GB to the current directory (/kaggle/working/) that gets preserved as output when you create a version using \"Save & Run All\" \n",
    "# You can also write temporary files to /kaggle/temp/, but they won't be saved outside of the current session\n",
    "\n",
    "from transformers import BertModel, BertTokenizer\n",
    "import torch.nn as nn\n",
    "from torch.optim import Adam\n",
    "from torch.utils.data import DataLoader, TensorDataset\n",
    "import torch\n",
    "from torch.utils.data import random_split\n",
    "import tensorflow as tf\n",
    "from transformers import BertTokenizer, TFBertModel\n",
    "import tensorflow as tf\n",
    "import tensorflow_hub as hub\n",
    "import tensorflow_text as text  # Required for tf.hub.load to work.\n",
    "import pandas as pd\n"
   ]
  },
  {
   "cell_type": "code",
   "execution_count": 2,
   "id": "c9d35a7c",
   "metadata": {
    "execution": {
     "iopub.execute_input": "2023-07-25T10:44:40.338134Z",
     "iopub.status.busy": "2023-07-25T10:44:40.337830Z",
     "iopub.status.idle": "2023-07-25T10:45:02.023881Z",
     "shell.execute_reply": "2023-07-25T10:45:02.022870Z"
    },
    "papermill": {
     "duration": 21.692511,
     "end_time": "2023-07-25T10:45:02.026452",
     "exception": false,
     "start_time": "2023-07-25T10:44:40.333941",
     "status": "completed"
    },
    "tags": []
   },
   "outputs": [],
   "source": [
    "\n",
    "preprocessor = hub.KerasLayer(\"https://kaggle.com/models/tensorflow/bert/frameworks/TensorFlow2/variations/en-uncased-preprocess/versions/3\")\n",
    "# Load the BERT model from the Hub\n",
    "encoder = hub.KerasLayer(\"https://kaggle.com/models/tensorflow/bert/frameworks/TensorFlow2/variations/bert-en-uncased-l-12-h-768-a-12/versions/2\", trainable=True)"
   ]
  },
  {
   "cell_type": "code",
   "execution_count": 3,
   "id": "fab24583",
   "metadata": {
    "execution": {
     "iopub.execute_input": "2023-07-25T10:45:02.033794Z",
     "iopub.status.busy": "2023-07-25T10:45:02.033453Z",
     "iopub.status.idle": "2023-07-25T10:47:32.637951Z",
     "shell.execute_reply": "2023-07-25T10:47:32.636648Z"
    },
    "papermill": {
     "duration": 150.61125,
     "end_time": "2023-07-25T10:47:32.640700",
     "exception": false,
     "start_time": "2023-07-25T10:45:02.029450",
     "status": "completed"
    },
    "tags": []
   },
   "outputs": [
    {
     "name": "stdout",
     "output_type": "stream",
     "text": [
      "Epoch 1/10\n",
      "15/15 [==============================] - 54s 500ms/step - loss: 15.4828\n",
      "Epoch 2/10\n",
      "15/15 [==============================] - 7s 468ms/step - loss: 9.3771\n",
      "Epoch 3/10\n",
      "15/15 [==============================] - 7s 462ms/step - loss: 4.1627\n",
      "Epoch 4/10\n",
      "15/15 [==============================] - 7s 462ms/step - loss: 2.4435\n",
      "Epoch 5/10\n",
      "15/15 [==============================] - 7s 463ms/step - loss: 1.4926\n",
      "Epoch 6/10\n",
      "15/15 [==============================] - 7s 462ms/step - loss: 1.4318\n",
      "Epoch 7/10\n",
      "15/15 [==============================] - 7s 463ms/step - loss: 1.3485\n",
      "Epoch 8/10\n",
      "15/15 [==============================] - 7s 463ms/step - loss: 0.7897\n",
      "Epoch 9/10\n",
      "15/15 [==============================] - 7s 462ms/step - loss: 0.7388\n",
      "Epoch 10/10\n",
      "15/15 [==============================] - 7s 462ms/step - loss: 0.5254\n"
     ]
    }
   ],
   "source": [
    "\n",
    "\n",
    "class NewsScorePredictor(tf.keras.Model):\n",
    "    def __init__(self, encoder):\n",
    "        super(NewsScorePredictor, self).__init__()\n",
    "        self.encoder = encoder\n",
    "        self.linear = tf.keras.layers.Dense(2)  # BERT-base has 768 hidden units\n",
    "\n",
    "    def call(self, inputs):\n",
    "        outputs = self.encoder(inputs)\n",
    "        pooled_output = outputs[\"pooled_output\"]\n",
    "        scores = self.linear(pooled_output)\n",
    "        return scores\n",
    "\n",
    "# Instantiate model\n",
    "model = NewsScorePredictor(encoder)\n",
    "\n",
    "raw_news_content = pd.read_csv('/kaggle/input/raw-content/raw_news_content.csv')\n",
    "\n",
    "labels = [(russia, ukraine) for russia, ukraine in zip(raw_news_content.Russia_score, raw_news_content.Ukraine_score)]\n",
    "\n",
    "labels = tf.constant(labels, dtype=tf.float32)\n",
    "\n",
    "# Use the preprocessor to preprocess the text inputs\n",
    "news_encoded = preprocessor(raw_news_content.raw_content.values.tolist())\n",
    "\n",
    "# Create TensorFlow datasets for better performance\n",
    "train_dataset = tf.data.Dataset.from_tensor_slices((news_encoded, labels))\n",
    "train_dataset = train_dataset.batch(32).shuffle(1024)\n",
    "\n",
    "# Optimizer and loss function\n",
    "optimizer = tf.keras.optimizers.Adam(learning_rate=5e-5)\n",
    "loss = tf.keras.losses.MeanSquaredError()\n",
    "model.compile(optimizer=optimizer, loss=loss)\n",
    "\n",
    "# Training\n",
    "history = model.fit(train_dataset, epochs=10)\n",
    "\n"
   ]
  },
  {
   "cell_type": "code",
   "execution_count": 4,
   "id": "f36d9eac",
   "metadata": {
    "execution": {
     "iopub.execute_input": "2023-07-25T10:47:32.674378Z",
     "iopub.status.busy": "2023-07-25T10:47:32.673495Z",
     "iopub.status.idle": "2023-07-25T10:47:33.421908Z",
     "shell.execute_reply": "2023-07-25T10:47:33.420739Z"
    },
    "papermill": {
     "duration": 0.767459,
     "end_time": "2023-07-25T10:47:33.424477",
     "exception": false,
     "start_time": "2023-07-25T10:47:32.657018",
     "status": "completed"
    },
    "tags": []
   },
   "outputs": [
    {
     "name": "stdout",
     "output_type": "stream",
     "text": [
      "tf.Tensor([[-7.2273254  6.6063957]], shape=(1, 2), dtype=float32)\n"
     ]
    }
   ],
   "source": [
    "def predict_text(text):\n",
    "    preprocessed_text = preprocessor(tf.constant([text]))\n",
    "    scores = model(preprocessed_text)\n",
    "    return scores\n",
    "\n",
    "# Example usage:\n",
    "text = \"\"\"To some Ukrainian forces, soldiers from the Wagner Group were the best-equipped fighters they had seen since Russia invaded last year. To others, it was their training that distinguished them: Ukrainian soldiers recalled battlefield stories of aggressive tactics or a sniper downing a drone with a single shot.\n",
    "But after the short-lived mutiny led by the head of the group, Yevgeny V. Prigozhin, it is not clear whether Wagner will still be a fighting force on the battlefield with its fate now in question.\n",
    "For now, the uncertain status of Wagner is bound to be a relief for Ukrainian soldiers. Though the front lines in Ukraine are likely to remain unchanged in the short term, depending on how events unfold in Russia, the Ukrainian military may be able to capitalize on the chaos and weakening morale to try to make some gains, according to independent analysts and American officials.\n",
    "Still, it is too soon to determine the long-term implications of the feud between Mr. Prigozhin and the Russian military establishment, American officials said. In Bakhmut, Wagner played an outsize role in the campaign to take the eastern city, Moscow’s one major battlefield victory this year, and solidified an uneasy alliance with the Russian military — only to see the partnership break once the city was captured.\n",
    "\"\"\"\n",
    "print(predict_text(text))"
   ]
  },
  {
   "cell_type": "code",
   "execution_count": 5,
   "id": "9aceb4a9",
   "metadata": {
    "execution": {
     "iopub.execute_input": "2023-07-25T10:47:33.458455Z",
     "iopub.status.busy": "2023-07-25T10:47:33.458153Z",
     "iopub.status.idle": "2023-07-25T10:47:34.338019Z",
     "shell.execute_reply": "2023-07-25T10:47:34.337026Z"
    },
    "papermill": {
     "duration": 0.899199,
     "end_time": "2023-07-25T10:47:34.340444",
     "exception": false,
     "start_time": "2023-07-25T10:47:33.441245",
     "status": "completed"
    },
    "tags": []
   },
   "outputs": [],
   "source": [
    "# save the model\n",
    "model_json = model.to_json()\n",
    "with open(\"model.json\", \"w\") as json_file:\n",
    "    json_file.write(model_json)\n",
    "# serialize weights to HDF5\n",
    "model.save_weights(\"model.h5\")\n"
   ]
  },
  {
   "cell_type": "code",
   "execution_count": 6,
   "id": "fe9e126b",
   "metadata": {
    "execution": {
     "iopub.execute_input": "2023-07-25T10:47:34.373486Z",
     "iopub.status.busy": "2023-07-25T10:47:34.373169Z",
     "iopub.status.idle": "2023-07-25T10:47:34.378469Z",
     "shell.execute_reply": "2023-07-25T10:47:34.377566Z"
    },
    "papermill": {
     "duration": 0.024527,
     "end_time": "2023-07-25T10:47:34.380544",
     "exception": false,
     "start_time": "2023-07-25T10:47:34.356017",
     "status": "completed"
    },
    "tags": []
   },
   "outputs": [],
   "source": [
    "# from keras.models import model_from_json\n",
    "\n",
    "# # load json and create model\n",
    "# json_file = open('model.json', 'r')\n",
    "# loaded_model_json = json_file.read()\n",
    "# json_file.close()\n",
    "# loaded_model = model_from_json(loaded_model_json)\n",
    "# # load weights into new model\n",
    "# loaded_model.load_weights(\"model.h5\")\n"
   ]
  }
 ],
 "metadata": {
  "kernelspec": {
   "display_name": "Python 3",
   "language": "python",
   "name": "python3"
  },
  "language_info": {
   "codemirror_mode": {
    "name": "ipython",
    "version": 3
   },
   "file_extension": ".py",
   "mimetype": "text/x-python",
   "name": "python",
   "nbconvert_exporter": "python",
   "pygments_lexer": "ipython3",
   "version": "3.10.12"
  },
  "papermill": {
   "default_parameters": {},
   "duration": 202.863992,
   "end_time": "2023-07-25T10:47:37.905391",
   "environment_variables": {},
   "exception": null,
   "input_path": "__notebook__.ipynb",
   "output_path": "__notebook__.ipynb",
   "parameters": {},
   "start_time": "2023-07-25T10:44:15.041399",
   "version": "2.4.0"
  }
 },
 "nbformat": 4,
 "nbformat_minor": 5
}
